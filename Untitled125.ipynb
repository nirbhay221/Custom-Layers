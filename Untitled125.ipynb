{
  "nbformat": 4,
  "nbformat_minor": 0,
  "metadata": {
    "colab": {
      "name": "Untitled125.ipynb",
      "provenance": [],
      "collapsed_sections": []
    },
    "kernelspec": {
      "name": "python3",
      "display_name": "Python 3"
    },
    "widgets": {
      "application/vnd.jupyter.widget-state+json": {
        "13bead08cfe84d0caa82e635e170174c": {
          "model_module": "@jupyter-widgets/controls",
          "model_name": "HBoxModel",
          "state": {
            "_view_name": "HBoxView",
            "_dom_classes": [],
            "_model_name": "HBoxModel",
            "_view_module": "@jupyter-widgets/controls",
            "_model_module_version": "1.5.0",
            "_view_count": null,
            "_view_module_version": "1.5.0",
            "box_style": "",
            "layout": "IPY_MODEL_3429e1819f54420e932e2117626141c0",
            "_model_module": "@jupyter-widgets/controls",
            "children": [
              "IPY_MODEL_2ab54116b24b48bca5d02819d913a28b",
              "IPY_MODEL_bee39443b31648d1a8013a4171565d5e"
            ]
          }
        },
        "3429e1819f54420e932e2117626141c0": {
          "model_module": "@jupyter-widgets/base",
          "model_name": "LayoutModel",
          "state": {
            "_view_name": "LayoutView",
            "grid_template_rows": null,
            "right": null,
            "justify_content": null,
            "_view_module": "@jupyter-widgets/base",
            "overflow": null,
            "_model_module_version": "1.2.0",
            "_view_count": null,
            "flex_flow": null,
            "width": null,
            "min_width": null,
            "border": null,
            "align_items": null,
            "bottom": null,
            "_model_module": "@jupyter-widgets/base",
            "top": null,
            "grid_column": null,
            "overflow_y": null,
            "overflow_x": null,
            "grid_auto_flow": null,
            "grid_area": null,
            "grid_template_columns": null,
            "flex": null,
            "_model_name": "LayoutModel",
            "justify_items": null,
            "grid_row": null,
            "max_height": null,
            "align_content": null,
            "visibility": null,
            "align_self": null,
            "height": null,
            "min_height": null,
            "padding": null,
            "grid_auto_rows": null,
            "grid_gap": null,
            "max_width": null,
            "order": null,
            "_view_module_version": "1.2.0",
            "grid_template_areas": null,
            "object_position": null,
            "object_fit": null,
            "grid_auto_columns": null,
            "margin": null,
            "display": null,
            "left": null
          }
        },
        "2ab54116b24b48bca5d02819d913a28b": {
          "model_module": "@jupyter-widgets/controls",
          "model_name": "FloatProgressModel",
          "state": {
            "_view_name": "ProgressView",
            "style": "IPY_MODEL_a934f0a0162649cd95668c5cd1cf8948",
            "_dom_classes": [],
            "description": "Dl Completed...: 100%",
            "_model_name": "FloatProgressModel",
            "bar_style": "success",
            "max": 4,
            "_view_module": "@jupyter-widgets/controls",
            "_model_module_version": "1.5.0",
            "value": 4,
            "_view_count": null,
            "_view_module_version": "1.5.0",
            "orientation": "horizontal",
            "min": 0,
            "description_tooltip": null,
            "_model_module": "@jupyter-widgets/controls",
            "layout": "IPY_MODEL_9809e6a6ea88405381cbe90e56846520"
          }
        },
        "bee39443b31648d1a8013a4171565d5e": {
          "model_module": "@jupyter-widgets/controls",
          "model_name": "HTMLModel",
          "state": {
            "_view_name": "HTMLView",
            "style": "IPY_MODEL_3f9046c483be485f9738e94eea9951b6",
            "_dom_classes": [],
            "description": "",
            "_model_name": "HTMLModel",
            "placeholder": "​",
            "_view_module": "@jupyter-widgets/controls",
            "_model_module_version": "1.5.0",
            "value": " 4/4 [00:00&lt;00:00,  5.78 file/s]",
            "_view_count": null,
            "_view_module_version": "1.5.0",
            "description_tooltip": null,
            "_model_module": "@jupyter-widgets/controls",
            "layout": "IPY_MODEL_26f532cbcef943f6b641c6b477777fa7"
          }
        },
        "a934f0a0162649cd95668c5cd1cf8948": {
          "model_module": "@jupyter-widgets/controls",
          "model_name": "ProgressStyleModel",
          "state": {
            "_view_name": "StyleView",
            "_model_name": "ProgressStyleModel",
            "description_width": "initial",
            "_view_module": "@jupyter-widgets/base",
            "_model_module_version": "1.5.0",
            "_view_count": null,
            "_view_module_version": "1.2.0",
            "bar_color": null,
            "_model_module": "@jupyter-widgets/controls"
          }
        },
        "9809e6a6ea88405381cbe90e56846520": {
          "model_module": "@jupyter-widgets/base",
          "model_name": "LayoutModel",
          "state": {
            "_view_name": "LayoutView",
            "grid_template_rows": null,
            "right": null,
            "justify_content": null,
            "_view_module": "@jupyter-widgets/base",
            "overflow": null,
            "_model_module_version": "1.2.0",
            "_view_count": null,
            "flex_flow": null,
            "width": null,
            "min_width": null,
            "border": null,
            "align_items": null,
            "bottom": null,
            "_model_module": "@jupyter-widgets/base",
            "top": null,
            "grid_column": null,
            "overflow_y": null,
            "overflow_x": null,
            "grid_auto_flow": null,
            "grid_area": null,
            "grid_template_columns": null,
            "flex": null,
            "_model_name": "LayoutModel",
            "justify_items": null,
            "grid_row": null,
            "max_height": null,
            "align_content": null,
            "visibility": null,
            "align_self": null,
            "height": null,
            "min_height": null,
            "padding": null,
            "grid_auto_rows": null,
            "grid_gap": null,
            "max_width": null,
            "order": null,
            "_view_module_version": "1.2.0",
            "grid_template_areas": null,
            "object_position": null,
            "object_fit": null,
            "grid_auto_columns": null,
            "margin": null,
            "display": null,
            "left": null
          }
        },
        "3f9046c483be485f9738e94eea9951b6": {
          "model_module": "@jupyter-widgets/controls",
          "model_name": "DescriptionStyleModel",
          "state": {
            "_view_name": "StyleView",
            "_model_name": "DescriptionStyleModel",
            "description_width": "",
            "_view_module": "@jupyter-widgets/base",
            "_model_module_version": "1.5.0",
            "_view_count": null,
            "_view_module_version": "1.2.0",
            "_model_module": "@jupyter-widgets/controls"
          }
        },
        "26f532cbcef943f6b641c6b477777fa7": {
          "model_module": "@jupyter-widgets/base",
          "model_name": "LayoutModel",
          "state": {
            "_view_name": "LayoutView",
            "grid_template_rows": null,
            "right": null,
            "justify_content": null,
            "_view_module": "@jupyter-widgets/base",
            "overflow": null,
            "_model_module_version": "1.2.0",
            "_view_count": null,
            "flex_flow": null,
            "width": null,
            "min_width": null,
            "border": null,
            "align_items": null,
            "bottom": null,
            "_model_module": "@jupyter-widgets/base",
            "top": null,
            "grid_column": null,
            "overflow_y": null,
            "overflow_x": null,
            "grid_auto_flow": null,
            "grid_area": null,
            "grid_template_columns": null,
            "flex": null,
            "_model_name": "LayoutModel",
            "justify_items": null,
            "grid_row": null,
            "max_height": null,
            "align_content": null,
            "visibility": null,
            "align_self": null,
            "height": null,
            "min_height": null,
            "padding": null,
            "grid_auto_rows": null,
            "grid_gap": null,
            "max_width": null,
            "order": null,
            "_view_module_version": "1.2.0",
            "grid_template_areas": null,
            "object_position": null,
            "object_fit": null,
            "grid_auto_columns": null,
            "margin": null,
            "display": null,
            "left": null
          }
        }
      }
    }
  },
  "cells": [
    {
      "cell_type": "code",
      "metadata": {
        "id": "o8xpZ6UkTgRd"
      },
      "source": [
        "import tensorflow as tf\r\n",
        "from tensorflow.keras import backend as K"
      ],
      "execution_count": null,
      "outputs": []
    },
    {
      "cell_type": "code",
      "metadata": {
        "colab": {
          "base_uri": "https://localhost:8080/"
        },
        "id": "mH_exRqA7KOT",
        "outputId": "b4b8eb0e-00c5-4fc5-c258-77879ca3accd"
      },
      "source": [
        "mnist = tf.keras.datasets.mnist\r\n",
        "(x_train,y_train),(x_test,y_test) = mnist.load_data()\r\n",
        "x_train,x_test = x_train/255.0,x_test/255.0"
      ],
      "execution_count": null,
      "outputs": [
        {
          "output_type": "stream",
          "text": [
            "Downloading data from https://storage.googleapis.com/tensorflow/tf-keras-datasets/mnist.npz\n",
            "11493376/11490434 [==============================] - 0s 0us/step\n"
          ],
          "name": "stdout"
        }
      ]
    },
    {
      "cell_type": "code",
      "metadata": {
        "id": "FAsT7gov8Sf1"
      },
      "source": [
        "model = tf.keras.models.Sequential([\r\n",
        "                                    tf.keras.layers.Flatten(input_shape=(28,28)),\r\n",
        "                                    tf.keras.layers.Dense(128),\r\n",
        "                                    tf.keras.layers.Lambda(lambda x: tf.abs(x)),\r\n",
        "                                    tf.keras.layers.Dense(10,activation='softmax')\r\n",
        "])"
      ],
      "execution_count": null,
      "outputs": []
    },
    {
      "cell_type": "code",
      "metadata": {
        "id": "Q6o9yILJ9RHr"
      },
      "source": [
        "model.compile(optimizer='Adam',loss='sparse_categorical_crossentropy',metrics=['accuracy'])"
      ],
      "execution_count": null,
      "outputs": []
    },
    {
      "cell_type": "code",
      "metadata": {
        "colab": {
          "base_uri": "https://localhost:8080/"
        },
        "id": "PuYlyNDe9jz9",
        "outputId": "3c80e855-6ecb-4abb-dddb-d5dc82554658"
      },
      "source": [
        "model.fit(x_train,y_train,epochs=5)"
      ],
      "execution_count": null,
      "outputs": [
        {
          "output_type": "stream",
          "text": [
            "Epoch 1/5\n",
            "1875/1875 [==============================] - 3s 2ms/step - loss: 0.2210 - accuracy: 0.9373\n",
            "Epoch 2/5\n",
            "1875/1875 [==============================] - 3s 1ms/step - loss: 0.0914 - accuracy: 0.9722\n",
            "Epoch 3/5\n",
            "1875/1875 [==============================] - 3s 2ms/step - loss: 0.0638 - accuracy: 0.9798\n",
            "Epoch 4/5\n",
            "1875/1875 [==============================] - 3s 2ms/step - loss: 0.0495 - accuracy: 0.9845\n",
            "Epoch 5/5\n",
            "1875/1875 [==============================] - 3s 1ms/step - loss: 0.0377 - accuracy: 0.9881\n"
          ],
          "name": "stdout"
        },
        {
          "output_type": "execute_result",
          "data": {
            "text/plain": [
              "<tensorflow.python.keras.callbacks.History at 0x7ff546ed7c88>"
            ]
          },
          "metadata": {
            "tags": []
          },
          "execution_count": 7
        }
      ]
    },
    {
      "cell_type": "code",
      "metadata": {
        "colab": {
          "base_uri": "https://localhost:8080/"
        },
        "id": "T70SqDzA9mqb",
        "outputId": "ac931575-cc01-49d5-a489-ed69b83def8c"
      },
      "source": [
        "model.evaluate(x_test,y_test)"
      ],
      "execution_count": null,
      "outputs": [
        {
          "output_type": "stream",
          "text": [
            "313/313 [==============================] - 0s 902us/step - loss: 0.0857 - accuracy: 0.9749\n"
          ],
          "name": "stdout"
        },
        {
          "output_type": "execute_result",
          "data": {
            "text/plain": [
              "[0.0856681689620018, 0.9749000072479248]"
            ]
          },
          "metadata": {
            "tags": []
          },
          "execution_count": 8
        }
      ]
    },
    {
      "cell_type": "code",
      "metadata": {
        "id": "ZV5ag_D29rZy"
      },
      "source": [
        "def my_relu(x):\r\n",
        "  return K.maximum(0.1,x)"
      ],
      "execution_count": null,
      "outputs": []
    },
    {
      "cell_type": "code",
      "metadata": {
        "id": "mJzL0Bpi98SH"
      },
      "source": [
        "model = tf.keras.models.Sequential([\r\n",
        "                                    tf.keras.layers.Flatten(input_shape=(28,28)),\r\n",
        "                                    tf.keras.layers.Dense(128),\r\n",
        "                                    tf.keras.layers.Lambda(my_relu),\r\n",
        "                                    tf.keras.layers.Dense(10,activation='softmax')\r\n",
        "])"
      ],
      "execution_count": null,
      "outputs": []
    },
    {
      "cell_type": "code",
      "metadata": {
        "id": "LoGz_DIR-WiD"
      },
      "source": [
        "model.compile(optimizer='Adam',loss='sparse_categorical_crossentropy',metrics=['accuracy']\r\n",
        "              )"
      ],
      "execution_count": null,
      "outputs": []
    },
    {
      "cell_type": "code",
      "metadata": {
        "colab": {
          "base_uri": "https://localhost:8080/"
        },
        "id": "dh9JClFV-fjt",
        "outputId": "20db313f-fa33-4a82-bd44-b153ed9d4725"
      },
      "source": [
        "model.fit(x_train,y_train,epochs=5)\r\n",
        "model.evaluate(x_test,y_test)"
      ],
      "execution_count": null,
      "outputs": [
        {
          "output_type": "stream",
          "text": [
            "Epoch 1/5\n",
            "1875/1875 [==============================] - 3s 2ms/step - loss: 0.2636 - accuracy: 0.9255\n",
            "Epoch 2/5\n",
            "1875/1875 [==============================] - 3s 2ms/step - loss: 0.1202 - accuracy: 0.9653\n",
            "Epoch 3/5\n",
            "1875/1875 [==============================] - 3s 2ms/step - loss: 0.0837 - accuracy: 0.9750\n",
            "Epoch 4/5\n",
            "1875/1875 [==============================] - 3s 2ms/step - loss: 0.0615 - accuracy: 0.9809\n",
            "Epoch 5/5\n",
            "1875/1875 [==============================] - 3s 2ms/step - loss: 0.0476 - accuracy: 0.9856\n",
            "313/313 [==============================] - 0s 951us/step - loss: 0.0816 - accuracy: 0.9754\n"
          ],
          "name": "stdout"
        },
        {
          "output_type": "execute_result",
          "data": {
            "text/plain": [
              "[0.08155564218759537, 0.9753999710083008]"
            ]
          },
          "metadata": {
            "tags": []
          },
          "execution_count": 23
        }
      ]
    },
    {
      "cell_type": "code",
      "metadata": {
        "colab": {
          "base_uri": "https://localhost:8080/"
        },
        "id": "nv2xls_z-ma_",
        "outputId": "ebc21df7-1e4c-4b5c-85bd-87258a99464f"
      },
      "source": [
        "model = tf.keras.models.Sequential([\r\n",
        "                                    tf.keras.layers.Flatten(input_shape=(28,28)),\r\n",
        "                                    tf.keras.layers.Dense(128,activation='relu'),\r\n",
        "                                    tf.keras.layers.Dense(10,activation='softmax')\r\n",
        "])\r\n",
        "model.compile(optimizer='Adam',loss='sparse_categorical_crossentropy',metrics=['accuracy']\r\n",
        "              )\r\n",
        "model.fit(x_train,y_train,epochs=5)\r\n",
        "model.evaluate(x_test,y_test)"
      ],
      "execution_count": null,
      "outputs": [
        {
          "output_type": "stream",
          "text": [
            "Epoch 1/5\n",
            "1875/1875 [==============================] - 3s 2ms/step - loss: 0.2551 - accuracy: 0.9269\n",
            "Epoch 2/5\n",
            "1875/1875 [==============================] - 3s 2ms/step - loss: 0.1126 - accuracy: 0.9663\n",
            "Epoch 3/5\n",
            "1875/1875 [==============================] - 3s 2ms/step - loss: 0.0777 - accuracy: 0.9764\n",
            "Epoch 4/5\n",
            "1875/1875 [==============================] - 3s 2ms/step - loss: 0.0589 - accuracy: 0.9818\n",
            "Epoch 5/5\n",
            "1875/1875 [==============================] - 3s 2ms/step - loss: 0.0450 - accuracy: 0.9859\n",
            "313/313 [==============================] - 0s 949us/step - loss: 0.0795 - accuracy: 0.9773\n"
          ],
          "name": "stdout"
        },
        {
          "output_type": "execute_result",
          "data": {
            "text/plain": [
              "[0.07952237129211426, 0.9772999882698059]"
            ]
          },
          "metadata": {
            "tags": []
          },
          "execution_count": 24
        }
      ]
    },
    {
      "cell_type": "code",
      "metadata": {
        "id": "fCjKIAbO_ALr"
      },
      "source": [
        "import tensorflow as tf\r\n",
        "import numpy as np\r\n",
        "from tensorflow.keras.layers import Layer"
      ],
      "execution_count": null,
      "outputs": []
    },
    {
      "cell_type": "code",
      "metadata": {
        "id": "hgb_Gm0JBO-d"
      },
      "source": [
        "# inherit from this base class\r\n",
        "from tensorflow.keras.layers import Layer\r\n",
        "\r\n",
        "class SimpleDense(Layer):\r\n",
        "\r\n",
        "    def __init__(self, units=32):\r\n",
        "        '''Initializes the instance attributes'''\r\n",
        "        super(SimpleDense, self).__init__()\r\n",
        "        self.units = units\r\n",
        "\r\n",
        "    def build(self, input_shape):\r\n",
        "        '''Create the state of the layer (weights)'''\r\n",
        "        # initialize the weights\r\n",
        "        w_init = tf.random_normal_initializer()\r\n",
        "        self.w = tf.Variable(name=\"kernel\",\r\n",
        "            initial_value=w_init(shape=(input_shape[-1], self.units),\r\n",
        "                                 dtype='float32'),\r\n",
        "            trainable=True)\r\n",
        "\r\n",
        "        # initialize the biases\r\n",
        "        b_init = tf.zeros_initializer()\r\n",
        "        self.b = tf.Variable(name=\"bias\",\r\n",
        "            initial_value=b_init(shape=(self.units,), dtype='float32'),\r\n",
        "            trainable=True)\r\n",
        "\r\n",
        "    def call(self, inputs):\r\n",
        "        '''Defines the computation from inputs to outputs'''\r\n",
        "        return tf.matmul(inputs, self.w) + self.b"
      ],
      "execution_count": null,
      "outputs": []
    },
    {
      "cell_type": "code",
      "metadata": {
        "colab": {
          "base_uri": "https://localhost:8080/"
        },
        "id": "hxS4rgz2CyE8",
        "outputId": "e5328c3c-4014-4cea-9e0c-e41042f7258f"
      },
      "source": [
        "# declare an instance of the class\r\n",
        "my_dense = SimpleDense(units=1)\r\n",
        "\r\n",
        "# define an input and feed into the layer\r\n",
        "x = tf.ones((1, 1))\r\n",
        "y = my_dense(x)\r\n",
        "\r\n",
        "# parameters of the base Layer class like `variables` can be used\r\n",
        "print(my_dense.variables)"
      ],
      "execution_count": null,
      "outputs": [
        {
          "output_type": "stream",
          "text": [
            "[<tf.Variable 'simple_dense/kernel:0' shape=(1, 1) dtype=float32, numpy=array([[0.01958207]], dtype=float32)>, <tf.Variable 'simple_dense/bias:0' shape=(1,) dtype=float32, numpy=array([0.], dtype=float32)>]\n"
          ],
          "name": "stdout"
        }
      ]
    },
    {
      "cell_type": "code",
      "metadata": {
        "id": "OkAL3x90D3Jk"
      },
      "source": [
        "xs = np.array([-1.0,  0.0, 1.0, 2.0, 3.0, 4.0], dtype=float)\r\n",
        "ys = np.array([-3.0, -1.0, 1.0, 3.0, 5.0, 7.0], dtype=float)\r\n",
        "\r\n"
      ],
      "execution_count": null,
      "outputs": []
    },
    {
      "cell_type": "code",
      "metadata": {
        "id": "dbSdhrKkEngb"
      },
      "source": [
        "my_layer = SimpleDense(units=1)\r\n",
        "model = tf.keras.models.Sequential([my_layer])"
      ],
      "execution_count": null,
      "outputs": []
    },
    {
      "cell_type": "code",
      "metadata": {
        "colab": {
          "base_uri": "https://localhost:8080/"
        },
        "id": "w2sad9YUEvyh",
        "outputId": "175cba8f-1743-446d-a271-dfb708980570"
      },
      "source": [
        "model.compile(optimizer='sgd',loss='mean_squared_error')\r\n",
        "model.fit(xs,ys,epochs=500,verbose=0)"
      ],
      "execution_count": null,
      "outputs": [
        {
          "output_type": "execute_result",
          "data": {
            "text/plain": [
              "<tensorflow.python.keras.callbacks.History at 0x7ff554f65978>"
            ]
          },
          "metadata": {
            "tags": []
          },
          "execution_count": 41
        }
      ]
    },
    {
      "cell_type": "code",
      "metadata": {
        "colab": {
          "base_uri": "https://localhost:8080/"
        },
        "id": "XUaJiln_E6Kv",
        "outputId": "62272bf6-a4b3-4414-e2de-52454faf281b"
      },
      "source": [
        "model.predict([10.0])"
      ],
      "execution_count": null,
      "outputs": [
        {
          "output_type": "execute_result",
          "data": {
            "text/plain": [
              "array([[18.981495]], dtype=float32)"
            ]
          },
          "metadata": {
            "tags": []
          },
          "execution_count": 42
        }
      ]
    },
    {
      "cell_type": "code",
      "metadata": {
        "colab": {
          "base_uri": "https://localhost:8080/"
        },
        "id": "ADEsnbWOE9gn",
        "outputId": "b4817bbe-1369-43f1-ed40-a2c09f2cdbe3"
      },
      "source": [
        "print(my_layer.variables)"
      ],
      "execution_count": null,
      "outputs": [
        {
          "output_type": "stream",
          "text": [
            "[<tf.Variable 'simple_dense_1/kernel:0' shape=(1, 1) dtype=float32, numpy=array([[1.9973178]], dtype=float32)>, <tf.Variable 'simple_dense_1/bias:0' shape=(1,) dtype=float32, numpy=array([-0.9916841], dtype=float32)>]\n"
          ],
          "name": "stdout"
        }
      ]
    },
    {
      "cell_type": "code",
      "metadata": {
        "id": "jUNuC8xkFBgn"
      },
      "source": [
        "class SimpleDense(Layer):\r\n",
        "\r\n",
        "    # add an activation parameter\r\n",
        "    def __init__(self, units=32, activation=None):\r\n",
        "        super(SimpleDense, self).__init__()\r\n",
        "        self.units = units\r\n",
        "        \r\n",
        "        # define the activation to get from the built-in activation layers in Keras\r\n",
        "        self.activation = tf.keras.activations.get(activation)\r\n",
        "\r\n",
        "\r\n",
        "    def build(self, input_shape):\r\n",
        "        w_init = tf.random_normal_initializer()\r\n",
        "        self.w = tf.Variable(name=\"kernel\",\r\n",
        "            initial_value=w_init(shape=(input_shape[-1], self.units),\r\n",
        "                                 dtype='float32'),\r\n",
        "            trainable=True)\r\n",
        "        b_init = tf.zeros_initializer()\r\n",
        "        self.b = tf.Variable(name=\"bias\",\r\n",
        "            initial_value=b_init(shape=(self.units,), dtype='float32'),\r\n",
        "            trainable=True)\r\n",
        "        super().build(input_shape)\r\n",
        "\r\n",
        "\r\n",
        "    def call(self, inputs):\r\n",
        "        \r\n",
        "        # pass the computation to the activation layer\r\n",
        "        return self.activation(tf.matmul(inputs, self.w) + self.b)"
      ],
      "execution_count": null,
      "outputs": []
    },
    {
      "cell_type": "code",
      "metadata": {
        "id": "t8O9SP7pK4jA"
      },
      "source": [
        "mnist = tf.keras.datasets.mnist\r\n",
        "(x_train,y_train),(x_test,y_test)= mnist.load_data()\r\n",
        "x_train,x_test= x_train/255.0,x_test/255.0"
      ],
      "execution_count": null,
      "outputs": []
    },
    {
      "cell_type": "code",
      "metadata": {
        "id": "BI2c1AadLMN5"
      },
      "source": [
        "\r\n",
        "model = tf.keras.models.Sequential([\r\n",
        "    tf.keras.layers.Flatten(input_shape=(28, 28)),\r\n",
        "    SimpleDense(128, activation='relu'),\r\n",
        "    tf.keras.layers.Dropout(0.2),\r\n",
        "    tf.keras.layers.Dense(10, activation='softmax')\r\n",
        "])"
      ],
      "execution_count": null,
      "outputs": []
    },
    {
      "cell_type": "code",
      "metadata": {
        "colab": {
          "base_uri": "https://localhost:8080/"
        },
        "id": "NKbYvaWKL6_c",
        "outputId": "d1dadda3-2ed6-448f-a79f-dc23a8ed5431"
      },
      "source": [
        "model.compile(optimizer='adam',\r\n",
        "              loss='sparse_categorical_crossentropy',\r\n",
        "              metrics=['accuracy'])\r\n",
        "\r\n",
        "model.fit(x_train, y_train, epochs=5)\r\n",
        "model.evaluate(x_test, y_test)"
      ],
      "execution_count": null,
      "outputs": [
        {
          "output_type": "stream",
          "text": [
            "Epoch 1/5\n",
            "1875/1875 [==============================] - 3s 2ms/step - loss: 0.2988 - accuracy: 0.9136\n",
            "Epoch 2/5\n",
            "1875/1875 [==============================] - 3s 2ms/step - loss: 0.1444 - accuracy: 0.9567\n",
            "Epoch 3/5\n",
            "1875/1875 [==============================] - 3s 2ms/step - loss: 0.1075 - accuracy: 0.9669\n",
            "Epoch 4/5\n",
            "1875/1875 [==============================] - 3s 2ms/step - loss: 0.0896 - accuracy: 0.9725\n",
            "Epoch 5/5\n",
            "1875/1875 [==============================] - 3s 2ms/step - loss: 0.0754 - accuracy: 0.9762\n",
            "313/313 [==============================] - 0s 960us/step - loss: 0.0729 - accuracy: 0.9786\n"
          ],
          "name": "stdout"
        },
        {
          "output_type": "execute_result",
          "data": {
            "text/plain": [
              "[0.07286529242992401, 0.978600025177002]"
            ]
          },
          "metadata": {
            "tags": []
          },
          "execution_count": 53
        }
      ]
    },
    {
      "cell_type": "code",
      "metadata": {
        "id": "NyNfHle9MXZN"
      },
      "source": [
        "class SimpleQuadratic(Layer):\r\n",
        "  def __init__(self,units=32,activation=None):\r\n",
        "    super(SimpleQuadratic,self).__init__()\r\n",
        "    self.units = units\r\n",
        "    self.activation = tf.keras.activations.get(activation)\r\n",
        "  def build(self,input_shape):\r\n",
        "    a_init = tf.random_normal_initializer()\r\n",
        "    b_init = tf.random_normal_initializer()\r\n",
        "    c_init = tf.zeros_initializer()\r\n",
        "    self.a = tf.Variable(initial_value=a_init(shape = (input_shape[-1],self.units),dtype='float32'),trainable=True)\r\n",
        "    self.b = tf.Variable(initial_value =b_init(shape= (input_shape[-1],self.units),dtype='float32'),trainable=True)\r\n",
        "    self.c = tf.Variable(initial_value=c_init(shape=(self.units,),dtype='float32'),trainable=True)\r\n",
        "    super()\r\n",
        "  def call(self,inputs):\r\n",
        "    x_squared = tf.math.square(inputs)\r\n",
        "    a_x = tf.matmul(x_squared,self.a)\r\n",
        "    b_x = tf.matmul(inputs,self.b)\r\n",
        "    a_b_c = a_x+b_x+self.c\r\n",
        "    return self.activation(a_b_c)"
      ],
      "execution_count": null,
      "outputs": []
    },
    {
      "cell_type": "code",
      "metadata": {
        "id": "TF_Kvni_Sb0m"
      },
      "source": [
        "mnist =tf.keras.datasets.mnist\r\n",
        "(x_train,y_train),(x_test,y_test)= mnist.load_data()\r\n",
        "x_train,x_test = x_train/255.0,x_test/255.0"
      ],
      "execution_count": null,
      "outputs": []
    },
    {
      "cell_type": "code",
      "metadata": {
        "id": "HevU2eouVkXu"
      },
      "source": [
        "model = tf.keras.models.Sequential([\r\n",
        "                                    tf.keras.layers.Flatten(input_shape=(28,28)),\r\n",
        "                                    SimpleQuadratic(128,activation='relu'),\r\n",
        "                                    tf.keras.layers.Dropout(0.2),\r\n",
        "                                    tf.keras.layers.Dense(10,activation='softmax')\r\n",
        "])"
      ],
      "execution_count": null,
      "outputs": []
    },
    {
      "cell_type": "code",
      "metadata": {
        "colab": {
          "base_uri": "https://localhost:8080/"
        },
        "id": "c_sd2_R2Whrw",
        "outputId": "748a1153-ed1e-4531-d48a-72b86d1d4d12"
      },
      "source": [
        "model.compile(optimizer='Adam',loss='sparse_categorical_crossentropy',metrics=['accuracy'])\r\n",
        "model.fit(x_train,y_train,epochs =10)\r\n",
        "model.evaluate(x_test,y_test)"
      ],
      "execution_count": null,
      "outputs": [
        {
          "output_type": "stream",
          "text": [
            "Epoch 1/10\n",
            "1875/1875 [==============================] - 5s 3ms/step - loss: 0.1700 - accuracy: 0.9497\n",
            "Epoch 2/10\n",
            "1875/1875 [==============================] - 4s 2ms/step - loss: 0.1139 - accuracy: 0.9654\n",
            "Epoch 3/10\n",
            "1875/1875 [==============================] - 4s 2ms/step - loss: 0.0909 - accuracy: 0.9717\n",
            "Epoch 4/10\n",
            "1875/1875 [==============================] - 4s 2ms/step - loss: 0.0771 - accuracy: 0.9758\n",
            "Epoch 5/10\n",
            "1875/1875 [==============================] - 4s 2ms/step - loss: 0.0661 - accuracy: 0.9784\n",
            "Epoch 6/10\n",
            "1875/1875 [==============================] - 4s 2ms/step - loss: 0.0588 - accuracy: 0.9807\n",
            "Epoch 7/10\n",
            "1875/1875 [==============================] - 4s 2ms/step - loss: 0.0521 - accuracy: 0.9829\n",
            "Epoch 8/10\n",
            "1875/1875 [==============================] - 4s 2ms/step - loss: 0.0493 - accuracy: 0.9839\n",
            "Epoch 9/10\n",
            "1875/1875 [==============================] - 4s 2ms/step - loss: 0.0448 - accuracy: 0.9848\n",
            "Epoch 10/10\n",
            "1875/1875 [==============================] - 4s 2ms/step - loss: 0.0407 - accuracy: 0.9869\n",
            "313/313 [==============================] - 0s 1ms/step - loss: 0.0827 - accuracy: 0.9795\n"
          ],
          "name": "stdout"
        },
        {
          "output_type": "execute_result",
          "data": {
            "text/plain": [
              "[0.08270969241857529, 0.9794999957084656]"
            ]
          },
          "metadata": {
            "tags": []
          },
          "execution_count": 70
        }
      ]
    },
    {
      "cell_type": "code",
      "metadata": {
        "id": "vo__YI9bXbPg"
      },
      "source": [
        "import tensorflow as tf\r\n",
        "from tensorflow.keras import Model\r\n",
        "from tensorflow.keras.layers import Input\r\n",
        "from tensorflow.keras.layers import concatenate\r\n",
        "from tensorflow.keras.utils import plot_model\r\n",
        "from tensorflow.keras.layers import Dense"
      ],
      "execution_count": null,
      "outputs": []
    },
    {
      "cell_type": "code",
      "metadata": {
        "id": "EUOSbkImlXca"
      },
      "source": [
        "input_a = Input(shape=[1],name='Wide_Input')\r\n",
        "input_b = Input(shape=[1],name='Deep_Input')\r\n",
        "hidden_1 = Dense(30,activation='relu')(input_b)\r\n",
        "hidden_2= Dense(30,activation='relu')(hidden_1)\r\n",
        "concat = concatenate([input_a,hidden_2])\r\n",
        "output = Dense(1,name='Output')(concat)\r\n",
        "aux_output = Dense(1,name='aux_Output')(hidden_2)\r\n",
        "model = Model(inputs =[input_a,input_b],outputs=[output,aux_output])"
      ],
      "execution_count": null,
      "outputs": []
    },
    {
      "cell_type": "code",
      "metadata": {
        "colab": {
          "base_uri": "https://localhost:8080/",
          "height": 466
        },
        "id": "gHaFPfZooUg8",
        "outputId": "8e8e5933-b493-4bac-fe83-d396a5c848b2"
      },
      "source": [
        "plot_model(model)"
      ],
      "execution_count": null,
      "outputs": [
        {
          "output_type": "execute_result",
          "data": {
            "image/png": "[encoded data removed]",
            "text/plain": [
              "<IPython.core.display.Image object>"
            ]
          },
          "metadata": {
            "tags": []
          },
          "execution_count": 74
        }
      ]
    },
    {
      "cell_type": "code",
      "metadata": {
        "id": "GqOK-EQLoWj2"
      },
      "source": [
        "class Wide_and_Deep_Network(Model):\r\n",
        "  def __init__(self,units=30,activation='relu',**kwargs):\r\n",
        "    super().__init__(**kwargs)\r\n",
        "    self.hidden_1 = Dense(units,activation=activation)\r\n",
        "    self.hidden_2 = Dense(units,activation=activation)\r\n",
        "    self.main_output = Dense(1)\r\n",
        "    self.aux_output= Dense(1)\r\n",
        "  def call(self,inputs):\r\n",
        "    input_a,input_b = inputs\r\n",
        "    hidden_1=self.hidden_1(input_b)\r\n",
        "    hidden_2 = self.hidden2(hidden1)\r\n",
        "    concat = concatenate([inout_a,hidden_2])\r\n",
        "    main_output = self.main_output(concat)\r\n",
        "    aux_output = self.aux_output(hidden_2)\r\n",
        "    return main_output,aux_output"
      ],
      "execution_count": null,
      "outputs": []
    },
    {
      "cell_type": "code",
      "metadata": {
        "id": "nioK6BHFtNs1"
      },
      "source": [
        "model = Wide_and_Deep_Network()"
      ],
      "execution_count": null,
      "outputs": []
    },
    {
      "cell_type": "code",
      "metadata": {
        "id": "ig7R0WKatSzW"
      },
      "source": [
        "import tensorflow as tf\r\n",
        "import tensorflow_datasets as tfds\r\n",
        "from tensorflow.keras.layers import Layer"
      ],
      "execution_count": null,
      "outputs": []
    },
    {
      "cell_type": "code",
      "metadata": {
        "id": "FxzhZDNEyX3f"
      },
      "source": [
        "class IdentityBlock(tf.keras.Model):\r\n",
        "  def __init__(self,filters ,kernel_size):\r\n",
        "    super(IdentityBlock,self).__init__(name ='')\r\n",
        "    self.conv1 = tf.keras.layers.Conv2D(filters,kernel_size,padding='same')\r\n",
        "    self.bn1 = tf.keras.layers.BatchNormalization()\r\n",
        "    self.conv2 = tf.keras.layers.Conv2D(filters,kernel_size,padding='same')\r\n",
        "    self.bn2 = tf.keras.layers.BatchNormalization()\r\n",
        "    self.act = tf.keras.layers.Activation('relu')\r\n",
        "    self.add = tf.keras.layers.Add()\r\n",
        "  def call(self,input_tensor):\r\n",
        "    x = self.conv1(input_tensor)\r\n",
        "    x= self.bn1(x)\r\n",
        "    x = self.act(x)\r\n",
        "    x= self.conv2(x)\r\n",
        "    x = self.bn2(x)\r\n",
        "    x = self.act(x)\r\n",
        "    x= self.add([input_tensor,x])\r\n",
        "    x = self.act(x)\r\n",
        "    return x "
      ],
      "execution_count": null,
      "outputs": []
    },
    {
      "cell_type": "code",
      "metadata": {
        "id": "xheQm-TQ6b6I"
      },
      "source": [
        "class Resnet(tf.keras.Model):\r\n",
        "  def __init__(self,num_classes):\r\n",
        "    super(Resnet,self).__init__()\r\n",
        "    self.conv = tf.keras.layers.Conv2D(64,7,padding ='same')\r\n",
        "    self.bn = tf.keras.layers.BatchNormalization()\r\n",
        "    self.act = tf.keras.layers.Activation('relu')\r\n",
        "    self.max_pool = tf.keras.layers.MaxPooling2D((3,3))\r\n",
        "    self.id1a = IdentityBlock(64,3)\r\n",
        "    self.id1b = IdentityBlock(64,3)\r\n",
        "    self.global_pool = tf.keras.layers.GlobalAveragePooling2D()\r\n",
        "    self.classifier = tf.keras.layers.Dense(num_classes,activation ='softmax')\r\n",
        "  def call(self,inputs):\r\n",
        "    x = self.conv(inputs)\r\n",
        "    x= self.bn(x)\r\n",
        "    x = self.act(x)\r\n",
        "    x = self.max_pool(x)\r\n",
        "    x = self.id1a(x)\r\n",
        "    x = self.id1b(x)\r\n",
        "    x =self.global_pool(x)\r\n",
        "    return self.classifier(x)"
      ],
      "execution_count": null,
      "outputs": []
    },
    {
      "cell_type": "code",
      "metadata": {
        "id": "7MXQomae-jnq"
      },
      "source": [
        "def preprocess(features):\r\n",
        "  return tf.cast(features['image'],tf.float32)/255.0,features['label']"
      ],
      "execution_count": null,
      "outputs": []
    },
    {
      "cell_type": "code",
      "metadata": {
        "id": "YonrM-CtAZbb"
      },
      "source": [
        "resnet = Resnet(10)"
      ],
      "execution_count": null,
      "outputs": []
    },
    {
      "cell_type": "code",
      "metadata": {
        "id": "smwlN_gWAbbN"
      },
      "source": [
        "resnet.compile(optimizer='Adam',loss= 'sparse_categorical_crossentropy',metrics =['accuracy'])\r\n"
      ],
      "execution_count": null,
      "outputs": []
    },
    {
      "cell_type": "code",
      "metadata": {
        "colab": {
          "base_uri": "https://localhost:8080/",
          "height": 236,
          "referenced_widgets": [
            "13bead08cfe84d0caa82e635e170174c",
            "3429e1819f54420e932e2117626141c0",
            "2ab54116b24b48bca5d02819d913a28b",
            "bee39443b31648d1a8013a4171565d5e",
            "a934f0a0162649cd95668c5cd1cf8948",
            "9809e6a6ea88405381cbe90e56846520",
            "3f9046c483be485f9738e94eea9951b6",
            "26f532cbcef943f6b641c6b477777fa7"
          ]
        },
        "id": "EXeHK_EgFf5N",
        "outputId": "e8198836-cb7c-467e-8469-d397bb21bd29"
      },
      "source": [
        "dataset = tfds.load('mnist',split=tfds.Split.TRAIN,data_dir ='./data')\r\n",
        "dataset = dataset.map(preprocess).batch(32)\r\n",
        "resnet.fit(dataset,epochs=1)"
      ],
      "execution_count": null,
      "outputs": [
        {
          "output_type": "stream",
          "text": [
            "\u001b[1mDownloading and preparing dataset mnist/3.0.1 (download: 11.06 MiB, generated: 21.00 MiB, total: 32.06 MiB) to ./data/mnist/3.0.1...\u001b[0m\n"
          ],
          "name": "stdout"
        },
        {
          "output_type": "stream",
          "text": [
            "WARNING:absl:Dataset mnist is hosted on GCS. It will automatically be downloaded to your\n",
            "local data directory. If you'd instead prefer to read directly from our public\n",
            "GCS bucket (recommended if you're running on GCP), you can instead pass\n",
            "`try_gcs=True` to `tfds.load` or set `data_dir=gs://tfds-data/datasets`.\n",
            "\n"
          ],
          "name": "stderr"
        },
        {
          "output_type": "display_data",
          "data": {
            "application/vnd.jupyter.widget-view+json": {
              "model_id": "13bead08cfe84d0caa82e635e170174c",
              "version_minor": 0,
              "version_major": 2
            },
            "text/plain": [
              "HBox(children=(FloatProgress(value=0.0, description='Dl Completed...', max=4.0, style=ProgressStyle(descriptio…"
            ]
          },
          "metadata": {
            "tags": []
          }
        },
        {
          "output_type": "stream",
          "text": [
            "\n",
            "\n",
            "\u001b[1mDataset mnist downloaded and prepared to ./data/mnist/3.0.1. Subsequent calls will reuse this data.\u001b[0m\n",
            "1875/1875 [==============================] - 200s 107ms/step - loss: 0.1398 - accuracy: 0.9640\n"
          ],
          "name": "stdout"
        },
        {
          "output_type": "execute_result",
          "data": {
            "text/plain": [
              "<tensorflow.python.keras.callbacks.History at 0x7fe0a79c81d0>"
            ]
          },
          "metadata": {
            "tags": []
          },
          "execution_count": 7
        }
      ]
    },
    {
      "cell_type": "code",
      "metadata": {
        "id": "JiQGuRY2F2ZP"
      },
      "source": [
        "import tensorflow as tf\r\n",
        "import tensorflow_datasets as tfds\r\n"
      ],
      "execution_count": null,
      "outputs": []
    },
    {
      "cell_type": "code",
      "metadata": {
        "id": "O4evFxhRIXam"
      },
      "source": [
        "class MyClass:\r\n",
        "  def __init__(self):\r\n",
        "    self.var1 = 1\r\n",
        "my_obj = MyClass()"
      ],
      "execution_count": null,
      "outputs": []
    },
    {
      "cell_type": "code",
      "metadata": {
        "colab": {
          "base_uri": "https://localhost:8080/"
        },
        "id": "rox_svlqJTwb",
        "outputId": "edbf270b-a00a-4af4-aae5-84e47a163d7f"
      },
      "source": [
        "my_obj.__dict__"
      ],
      "execution_count": null,
      "outputs": [
        {
          "output_type": "execute_result",
          "data": {
            "text/plain": [
              "{'var1': 1}"
            ]
          },
          "metadata": {
            "tags": []
          },
          "execution_count": 10
        }
      ]
    },
    {
      "cell_type": "code",
      "metadata": {
        "id": "vSSHZQblJaB8"
      },
      "source": [
        "my_obj.var2 = 2"
      ],
      "execution_count": null,
      "outputs": []
    },
    {
      "cell_type": "code",
      "metadata": {
        "colab": {
          "base_uri": "https://localhost:8080/"
        },
        "id": "OdLVEDqXLs8F",
        "outputId": "3ed8bf92-f088-4c06-b742-f75fb6c1549b"
      },
      "source": [
        "my_obj.__dict__"
      ],
      "execution_count": null,
      "outputs": [
        {
          "output_type": "execute_result",
          "data": {
            "text/plain": [
              "{'var1': 1, 'var2': 2}"
            ]
          },
          "metadata": {
            "tags": []
          },
          "execution_count": 13
        }
      ]
    },
    {
      "cell_type": "code",
      "metadata": {
        "id": "J0HVdCWnLujA"
      },
      "source": [
        "vars(my_obj)['var3'] = 3"
      ],
      "execution_count": null,
      "outputs": []
    },
    {
      "cell_type": "code",
      "metadata": {
        "colab": {
          "base_uri": "https://localhost:8080/"
        },
        "id": "WICQKkogL_4E",
        "outputId": "bf716fb2-ab6b-4568-db2e-bcf536c8d39d"
      },
      "source": [
        "vars(my_obj)"
      ],
      "execution_count": null,
      "outputs": [
        {
          "output_type": "execute_result",
          "data": {
            "text/plain": [
              "{'var1': 1, 'var2': 2, 'var3': 3, 'vars3': 3}"
            ]
          },
          "metadata": {
            "tags": []
          },
          "execution_count": 18
        }
      ]
    },
    {
      "cell_type": "code",
      "metadata": {
        "id": "l0zoTcBKMBBr"
      },
      "source": [
        "for i in range(4,10):\r\n",
        "  vars(my_obj)[f'var{i}']=0\r\n",
        "  "
      ],
      "execution_count": null,
      "outputs": []
    },
    {
      "cell_type": "code",
      "metadata": {
        "colab": {
          "base_uri": "https://localhost:8080/"
        },
        "id": "c97-VeuGNR-0",
        "outputId": "85ab19fd-b6f1-4fa9-9f3b-fa32e0346a5b"
      },
      "source": [
        "vars(my_obj)"
      ],
      "execution_count": null,
      "outputs": [
        {
          "output_type": "execute_result",
          "data": {
            "text/plain": [
              "{'var1': 1,\n",
              " 'var2': 2,\n",
              " 'var3': 3,\n",
              " 'var4': 0,\n",
              " 'var5': 0,\n",
              " 'var6': 0,\n",
              " 'var7': 0,\n",
              " 'var8': 0,\n",
              " 'var9': 0,\n",
              " 'vars3': 3}"
            ]
          },
          "metadata": {
            "tags": []
          },
          "execution_count": 20
        }
      ]
    },
    {
      "cell_type": "code",
      "metadata": {
        "colab": {
          "base_uri": "https://localhost:8080/"
        },
        "id": "4giiVYyyNTh3",
        "outputId": "29ef9c56-eb99-430b-ebf6-9fe9fc55910a"
      },
      "source": [
        "i = 1\r\n",
        "j=2\r\n",
        "print(f'var{i}')\r\n",
        "print('var{}'.format(j))"
      ],
      "execution_count": null,
      "outputs": [
        {
          "output_type": "stream",
          "text": [
            "var1\n",
            "var2\n"
          ],
          "name": "stdout"
        }
      ]
    },
    {
      "cell_type": "code",
      "metadata": {
        "colab": {
          "base_uri": "https://localhost:8080/"
        },
        "id": "YVeTA6QxOYbI",
        "outputId": "116ec58d-6b32-4243-d2dc-542cea0c0932"
      },
      "source": [
        "class MyClass:\r\n",
        "  def __init__(self):\r\n",
        "    vars(self)['var1'] =1\r\n",
        "my_obj = MyClass()\r\n",
        "vars(my_obj\r\n",
        "     )"
      ],
      "execution_count": null,
      "outputs": [
        {
          "output_type": "execute_result",
          "data": {
            "text/plain": [
              "{'var1': 1}"
            ]
          },
          "metadata": {
            "tags": []
          },
          "execution_count": 23
        }
      ]
    },
    {
      "cell_type": "code",
      "metadata": {
        "id": "P_llBvTPO6zq"
      },
      "source": [
        "\r\n",
        "\r\n",
        "class Block(tf.keras.Model):\r\n",
        "    def __init__(self, filters, kernel_size, repetitions, pool_size=2, strides=2):\r\n",
        "        super(Block, self).__init__()\r\n",
        "        self.filters = filters\r\n",
        "        self.kernel_size = kernel_size\r\n",
        "        self.repetitions = repetitions\r\n",
        "        \r\n",
        "        for i in range(repetitions):\r\n",
        "            \r\n",
        "            vars(self)[f'conv2D_{i}'] = tf.keras.layers.Conv2D(filters, kernel_size, activation='relu', padding='same')\r\n",
        "        \r\n",
        "        self.max_pool = tf.keras.layers.MaxPool2D(pool_size=(pool_size, pool_size), strides=(strides, strides))\r\n",
        "  \r\n",
        "    def call(self, inputs):\r\n",
        "        conv2D_0 = vars(self)['conv2D_0']\r\n",
        "        \r\n",
        "        x = conv2D_0(inputs)\r\n",
        "\r\n",
        "        for i in range(1, self.repetitions):\r\n",
        "            conv2D_i = vars(self)[f'conv2D_{i}']\r\n",
        "            \r\n",
        "            x = conv2D_i(x)\r\n",
        "\r\n",
        "        max_pool = self.max_pool(x)\r\n",
        "        \r\n",
        "        return max_pool"
      ],
      "execution_count": null,
      "outputs": []
    },
    {
      "cell_type": "code",
      "metadata": {
        "id": "xc7xo8VGa_4z"
      },
      "source": [
        "class MyVGG(tf.keras.Model):\r\n",
        "  def __init__(self,num_classes):\r\n",
        "    super(MyVGG,self).__init__()\r\n",
        "    self.block_a = Block(filters =64,kernel_size=3,repetitions=2)\r\n",
        "    self.block_b = Block(filters = 128,kernel_size=3,repetitions=2)\r\n",
        "    self.block_c = Block(filters = 256,kernel_size=3,repetitions=3)\r\n",
        "    self.block_d = Block(filters = 512 , kernel_size=3,repetitions=3)\r\n",
        "    self.block_e = Block(filters=512,kernel_size=3,repetitions=3)\r\n",
        "    self.flatten = tf.keras.layers.Flatten()\r\n",
        "    self.fc = tf.keras.layers.Dense(units=256,activation='relu')\r\n",
        "    self.classifier = tf.keras.layers.Dense(units = num_classes,activation='softmax')\r\n",
        "  def call(self,inputs):\r\n",
        "    x = self.block_a(inputs)\r\n",
        "    x = self.block_b(x)\r\n",
        "    x= self.block_c(x)\r\n",
        "    x = self.block_d(x)\r\n",
        "    x= self.block_e(x)\r\n",
        "    x= self.flatten(x)\r\n",
        "    x= self.fc(x)\r\n",
        "    x = self.classifier(x)\r\n",
        "    return x"
      ],
      "execution_count": null,
      "outputs": []
    },
    {
      "cell_type": "code",
      "metadata": {
        "id": "WWvWxfP7eH3W"
      },
      "source": [
        "dataset = tfds.load('cats_vs_dogs',split = tfds.Split.TRAIN,data_dir='data/')\r\n",
        "vgg = MyVGG(num_classes=2)\r\n",
        "vgg.compile(optimizer='sgd',loss='sparse_categorical_crossentropy',metrics=['accuracy'])\r\n",
        "def preprocess(features):\r\n",
        "  image = tf.image.resize(features['image'],(224,224))\r\n",
        "  return tf.cast(image,tf.float32)/255.0,features['label']\r\n"
      ],
      "execution_count": null,
      "outputs": []
    },
    {
      "cell_type": "code",
      "metadata": {
        "id": "uIsOKlYZfoXf"
      },
      "source": [
        "dataset = dataset.map(preprocess).batch(32)"
      ],
      "execution_count": null,
      "outputs": []
    },
    {
      "cell_type": "code",
      "metadata": {
        "colab": {
          "base_uri": "https://localhost:8080/"
        },
        "id": "B7wZvJnEgZr7",
        "outputId": "7807817a-4bc3-4bb6-9f0e-c7fa5b76d957"
      },
      "source": [
        "vgg.fit(dataset,epochs=10)"
      ],
      "execution_count": null,
      "outputs": [
        {
          "output_type": "stream",
          "text": [
            "Epoch 1/10\n",
            "123/727 [====>.........................] - ETA: 2:21:47 - loss: 0.6932 - accuracy: 0.5056"
          ],
          "name": "stdout"
        }
      ]
    },
    {
      "cell_type": "code",
      "metadata": {
        "id": "0c--tlZdgmlc"
      },
      "source": [
        "import tensorflow as tf\r\n",
        "import matplotlib.pyplot as plt \r\n",
        "import tensorflow_datasets as tfds\r\n",
        "import io \r\n",
        "from PIL import Image\r\n",
        "from tensorflow.keras.callbacks import TensorBoard,EarlyStopping,LearningRateScheduler,ModelCheckpoint,CSVLogger,ReduceLROnPlateau\r\n",
        "import os\r\n",
        "import numpy as np\r\n",
        "import math\r\n",
        "import datetime\r\n",
        "import pandas as pd"
      ],
      "execution_count": null,
      "outputs": []
    },
    {
      "cell_type": "code",
      "metadata": {
        "id": "_-R62ac6JvEM"
      },
      "source": [
        "splits, info = tfds.load('horses_or_humans', as_supervised=True, with_info=True, split=['train[:80%]', 'train[80%:]', 'test'])\r\n",
        "\r\n",
        "(train_examples, validation_examples, test_examples) = splits\r\n",
        "\r\n",
        "num_examples = info.splits['train'].num_examples\r\n",
        "num_classes = info.features['label'].num_classes"
      ],
      "execution_count": null,
      "outputs": []
    },
    {
      "cell_type": "code",
      "metadata": {
        "id": "RRQrMH08LK3f"
      },
      "source": [
        "size = 150\r\n",
        "image_size = (size,size)"
      ],
      "execution_count": null,
      "outputs": []
    },
    {
      "cell_type": "code",
      "metadata": {
        "id": "QGXYEVUrLbQw"
      },
      "source": [
        "def format_image(image,label):\r\n",
        "  image = tf.image.resize(image,image_size)/255.0\r\n",
        "  return image,label"
      ],
      "execution_count": null,
      "outputs": []
    },
    {
      "cell_type": "code",
      "metadata": {
        "id": "FlNimXy_MTEx"
      },
      "source": [
        "batch_size=32"
      ],
      "execution_count": null,
      "outputs": []
    },
    {
      "cell_type": "code",
      "metadata": {
        "id": "trh7KawFMVER"
      },
      "source": [
        "train_batches= train_examples.shuffle(num_examples//4).map(format_image).batch(batch_size).prefetch(1)\r\n",
        "val_batches = validation_examples.map(format_image).batch(batch_size).prefetch(1)\r\n",
        "test_batches = test_examples.map(format_image).batch(1)"
      ],
      "execution_count": null,
      "outputs": []
    },
    {
      "cell_type": "code",
      "metadata": {
        "colab": {
          "base_uri": "https://localhost:8080/"
        },
        "id": "NEQgUMP7NXKq",
        "outputId": "1e543e8b-b254-4ed9-8311-ec23252f12b4"
      },
      "source": [
        "for image_batch,label_batch in train_batches.take(1):\r\n",
        "  pass\r\n",
        "image_batch.shape"
      ],
      "execution_count": null,
      "outputs": [
        {
          "output_type": "execute_result",
          "data": {
            "text/plain": [
              "TensorShape([32, 150, 150, 3])"
            ]
          },
          "metadata": {
            "tags": []
          },
          "execution_count": 10
        }
      ]
    },
    {
      "cell_type": "code",
      "metadata": {
        "id": "Eo9Y_brrNi9q"
      },
      "source": [
        "def build_model(dense_units,input_shape= image_size+(3,)):\r\n",
        "  model = tf.keras.models.Sequential([\r\n",
        "                                      tf.keras.layers.Conv2D(16,(3,3),activation='relu',input_shape=input_shape),\r\n",
        "                                      tf.keras.layers.MaxPooling2D(2,2),\r\n",
        "                                      tf.keras.layers.Conv2D(32,(3,3),activation='relu'),\r\n",
        "                                      tf.keras.layers.MaxPooling2D(2,2),\r\n",
        "                                      tf.keras.layers.Conv2D(64,(3,3),activation='relu'),\r\n",
        "                                      tf.keras.layers.Flatten(),\r\n",
        "                                      tf.keras.layers.Dense(dense_units,activation='relu'),\r\n",
        "                                      tf.keras.layers.Dense(2,activation='softmax')\r\n",
        "  ])\r\n",
        "  return model\r\n"
      ],
      "execution_count": null,
      "outputs": []
    },
    {
      "cell_type": "code",
      "metadata": {
        "id": "RJ3JfYT2O4B_"
      },
      "source": [
        "!rm -rf logs"
      ],
      "execution_count": null,
      "outputs": []
    },
    {
      "cell_type": "code",
      "metadata": {
        "colab": {
          "base_uri": "https://localhost:8080/"
        },
        "id": "DnFe3NAvQujt",
        "outputId": "55fea390-056e-423d-be0b-bf87a267f1b1"
      },
      "source": [
        "model = build_model(dense_units=256)\r\n",
        "model.compile(optimizer='sgd',loss='sparse_categorical_crossentropy',metrics=['accuracy'])\r\n",
        "logdir= os.path.join('logs',datetime.datetime.now().strftime('%Y%m%d-%H%M%S'))\r\n",
        "tensorboard_callbacks = tf.keras.callbacks.TensorBoard(logdir)\r\n",
        "model.fit(train_batches,epochs=10,validation_data= val_batches,callbacks=[tensorboard_callbacks])"
      ],
      "execution_count": null,
      "outputs": [
        {
          "output_type": "stream",
          "text": [
            "Epoch 1/10\n",
            " 1/26 [>.............................] - ETA: 0s - loss: 0.7251 - accuracy: 0.4375WARNING:tensorflow:From /usr/local/lib/python3.6/dist-packages/tensorflow/python/ops/summary_ops_v2.py:1277: stop (from tensorflow.python.eager.profiler) is deprecated and will be removed after 2020-07-01.\n",
            "Instructions for updating:\n",
            "use `tf.profiler.experimental.stop` instead.\n"
          ],
          "name": "stdout"
        },
        {
          "output_type": "stream",
          "text": [
            "WARNING:tensorflow:From /usr/local/lib/python3.6/dist-packages/tensorflow/python/ops/summary_ops_v2.py:1277: stop (from tensorflow.python.eager.profiler) is deprecated and will be removed after 2020-07-01.\n",
            "Instructions for updating:\n",
            "use `tf.profiler.experimental.stop` instead.\n"
          ],
          "name": "stderr"
        },
        {
          "output_type": "stream",
          "text": [
            "11/26 [===========>..................] - ETA: 10s - loss: 0.7401 - accuracy: 0.5284"
          ],
          "name": "stdout"
        }
      ]
    },
    {
      "cell_type": "code",
      "metadata": {
        "id": "qR8Iid5tR1vn"
      },
      "source": [
        ""
      ],
      "execution_count": null,
      "outputs": []
    }
  ]
}